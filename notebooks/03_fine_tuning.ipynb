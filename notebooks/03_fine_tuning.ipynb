
{
 "cells": [
  {
   "cell_type": "markdown",
   "metadata": {},
   "source": [
    "# 03 - Fine-Tuning Pipeline"
   ]
  },
  {
   "cell_type": "code",
   "execution_count": null,
   "metadata": {},
   "outputs": [],
   "source": [
    "from datasets import Dataset\n",
    "from transformers import AutoTokenizer, AutoModelForCausalLM, TrainingArguments, Trainer\n",
    "import json\n",
    "\n",
    "with open('../qa_pairs/qa_dataset.json') as f:\n",
    "    qa_data = json.load(f)\n",
    "\n",
    "qa_pairs = [{'text': f\"Q: {x['question']}\\nA: {x['answer']}\"} for x in qa_data]\n",
    "dataset = Dataset.from_list(qa_pairs)\n",
    "\n",
    "tokenizer = AutoTokenizer.from_pretrained('distilgpt2')\n",
    "model = AutoModelForCausalLM.from_pretrained('distilgpt2')\n",
    "\n",
    "def tokenize(example):\n",
    "    return tokenizer(example['text'], padding='max_length', truncation=True, max_length=128)\n",
    "\n",
    "tokenized_dataset = dataset.map(tokenize)\n",
    "\n",
    "training_args = TrainingArguments(\n",
    "    output_dir='../models/fine_tuned_model',\n",
    "    per_device_train_batch_size=2,\n",
    "    num_train_epochs=3,\n",
    "    logging_dir='./logs',\n",
    "    save_strategy='no'\n",
    ")\n",
    "\n",
    "trainer = Trainer(\n",
    "    model=model,\n",
    "    args=training_args,\n",
    "    train_dataset=tokenized_dataset\n",
    ")\n",
    "\n",
    "trainer.train()"
   ]
  }
 ]
}
