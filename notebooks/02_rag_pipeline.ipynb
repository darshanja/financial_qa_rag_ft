
{
 "cells": [
  {
   "cell_type": "markdown",
   "metadata": {},
   "source": [
    "# 02 - RAG Pipeline"
   ]
  },
  {
   "cell_type": "code",
   "execution_count": null,
   "metadata": {},
   "outputs": [],
   "source": [
    "import os\n",
    "from sentence_transformers import SentenceTransformer\n",
    "from utils.chunking import chunk_text\n",
    "from utils.retriever import HybridRetriever\n",
    "from utils.generator import generate_answer\n",
    "\n",
    "data_dir = '../data/processed'\n",
    "texts = []\n",
    "for file in os.listdir(data_dir):\n",
    "    if file.endswith('.txt'):\n",
    "        with open(os.path.join(data_dir, file), 'r') as f:\n",
    "            texts.append(f.read())\n",
    "\n",
    "chunks = chunk_text(texts, chunk_size=100)\n",
    "embedder = SentenceTransformer('all-MiniLM-L6-v2')\n",
    "retriever = HybridRetriever(chunks, embedder)\n",
    "\n",
    "query = 'What was the revenue in 2023?'\n",
    "top_chunks = retriever.retrieve(query)\n",
    "answer = generate_answer(query, top_chunks)\n",
    "print(answer)"
   ]
  }
 ]
}
