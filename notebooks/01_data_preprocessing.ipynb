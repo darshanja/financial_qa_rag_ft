
{
 "cells": [
  {
   "cell_type": "markdown",
   "metadata": {},
   "source": [
    "# 01 - Data Preprocessing"
   ]
  },
  {
   "cell_type": "code",
   "execution_count": null,
   "metadata": {},
   "outputs": [],
   "source": [
    "import os\n",
    "import pdfplumber\n",
    "import re\n",
    "from pathlib import Path\n",
    "\n",
    "RAW_DIR = \"../data/raw\"\n",
    "PROCESSED_DIR = \"../data/processed\"\n",
    "Path(PROCESSED_DIR).mkdir(parents=True, exist_ok=True)\n",
    "\n",
    "def extract_text_from_pdf(pdf_path):\n",
    "    with pdfplumber.open(pdf_path) as pdf:\n",
    "        text = \"\"\n",
    "        for page in pdf.pages:\n",
    "            text += page.extract_text() + \"\n\"\n",
    "    return text\n",
    "\n",
    "def clean_text(text):\n",
    "    text = re.sub(r'\\n+', '\\n', text)\n",
    "    text = re.sub(r'\\d+ of \\d+', '', text)  # remove page numbers\n",
    "    text = re.sub(r'\\s{2,}', ' ', text)\n",
    "    return text\n",
    "\n",
    "for fname in os.listdir(RAW_DIR):\n",
    "    if fname.endswith(\".pdf\"):\n",
    "        raw_text = extract_text_from_pdf(os.path.join(RAW_DIR, fname))\n",
    "        clean = clean_text(raw_text)\n",
    "        with open(os.path.join(PROCESSED_DIR, fname.replace(\".pdf\", \".txt\")), \"w\") as f:\n",
    "            f.write(clean)"
   ]
  }
 ]
}
